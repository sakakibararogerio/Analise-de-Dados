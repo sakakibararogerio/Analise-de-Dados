{
 "cells": [
  {
   "cell_type": "markdown",
   "id": "f268f921",
   "metadata": {},
   "source": [
    "#### Exercicio 1"
   ]
  },
  {
   "cell_type": "code",
   "execution_count": null,
   "id": "021cc216",
   "metadata": {},
   "outputs": [],
   "source": [
    "# Exercício 1 - Imprima na tela os números de 1 a 10. Use uma lista para armazenar os números.\n",
    "\n",
    "lista = [1,2,3,4,5,6,7,8,9,10]"
   ]
  },
  {
   "cell_type": "code",
   "execution_count": 2,
   "id": "6491e3a6",
   "metadata": {},
   "outputs": [
    {
     "data": {
      "text/plain": [
       "[1, 2, 3, 4, 5, 6, 7, 8, 9, 10]"
      ]
     },
     "execution_count": 2,
     "metadata": {},
     "output_type": "execute_result"
    }
   ],
   "source": [
    "lista"
   ]
  },
  {
   "cell_type": "markdown",
   "id": "97d2f13f",
   "metadata": {},
   "source": [
    "#### Exercicio 2"
   ]
  },
  {
   "cell_type": "code",
   "execution_count": null,
   "id": "e3e30011",
   "metadata": {},
   "outputs": [],
   "source": [
    "# Exercício 2 - Crie uma lista de 5 objetos e imprima na tela\n",
    "\n",
    "lista2 = [\"objeto1\", \"objeto2\", \"objeto3\", \"objeto4\", \"objeto5\"]"
   ]
  },
  {
   "cell_type": "code",
   "execution_count": 4,
   "id": "906c50af",
   "metadata": {},
   "outputs": [
    {
     "data": {
      "text/plain": [
       "['objeto1', 'objeto2', 'objeto3', 'objeto4', 'objeto5']"
      ]
     },
     "execution_count": 4,
     "metadata": {},
     "output_type": "execute_result"
    }
   ],
   "source": [
    "lista2"
   ]
  },
  {
   "cell_type": "markdown",
   "id": "5fb0c84c",
   "metadata": {},
   "source": [
    "#### Exercicio 3"
   ]
  },
  {
   "cell_type": "code",
   "execution_count": null,
   "id": "c04c861b",
   "metadata": {},
   "outputs": [],
   "source": [
    "# Exercício 3 - Crie duas strings e concatene as duas em uma terceira string\n",
    "\n",
    "string1 = \"Teste1\""
   ]
  },
  {
   "cell_type": "code",
   "execution_count": 10,
   "id": "ec7c9204",
   "metadata": {},
   "outputs": [],
   "source": [
    "string2 = \"Teste2\""
   ]
  },
  {
   "cell_type": "code",
   "execution_count": 11,
   "id": "6bd8de11",
   "metadata": {},
   "outputs": [],
   "source": [
    "string3 = \"teste3 \" + string2 + \" \" + string1 "
   ]
  },
  {
   "cell_type": "code",
   "execution_count": 12,
   "id": "ec2a0cd2",
   "metadata": {},
   "outputs": [
    {
     "data": {
      "text/plain": [
       "'teste3 Teste2 Teste1'"
      ]
     },
     "execution_count": 12,
     "metadata": {},
     "output_type": "execute_result"
    }
   ],
   "source": [
    "string3"
   ]
  },
  {
   "cell_type": "markdown",
   "id": "c4214b03",
   "metadata": {},
   "source": [
    "#### Exercicio 4"
   ]
  },
  {
   "cell_type": "code",
   "execution_count": null,
   "id": "295c81f2",
   "metadata": {},
   "outputs": [],
   "source": [
    "# Exercício 4 - Crie uma tupla com os seguintes elementos: 1, 2, 2, 3, 4, 4, 4, 5 e depois utilize a função count do \n",
    "# objeto tupla para verificar quantas vezes o número 4 aparece na tupla\n",
    "\n",
    "tupla = (1,2,2,3,4,4,4,5)"
   ]
  },
  {
   "cell_type": "code",
   "execution_count": 14,
   "id": "eaf0ab53",
   "metadata": {},
   "outputs": [
    {
     "data": {
      "text/plain": [
       "3"
      ]
     },
     "execution_count": 14,
     "metadata": {},
     "output_type": "execute_result"
    }
   ],
   "source": [
    "tupla.count(4)"
   ]
  },
  {
   "cell_type": "markdown",
   "id": "7ab578f4",
   "metadata": {},
   "source": [
    "#### Exercicio 5"
   ]
  },
  {
   "cell_type": "code",
   "execution_count": null,
   "id": "9e11b1a6",
   "metadata": {},
   "outputs": [],
   "source": [
    "# Exercício 5 - Crie um dicionário vazio e imprima na tela\n",
    "\n",
    "dict = {}"
   ]
  },
  {
   "cell_type": "code",
   "execution_count": 16,
   "id": "60a94296",
   "metadata": {},
   "outputs": [
    {
     "data": {
      "text/plain": [
       "{}"
      ]
     },
     "execution_count": 16,
     "metadata": {},
     "output_type": "execute_result"
    }
   ],
   "source": [
    "dict"
   ]
  },
  {
   "cell_type": "markdown",
   "id": "46af1eb6",
   "metadata": {},
   "source": [
    "#### Exercicio 6"
   ]
  },
  {
   "cell_type": "code",
   "execution_count": null,
   "id": "0e7b2030",
   "metadata": {},
   "outputs": [],
   "source": [
    "# Exercício 6 - Crie um dicionário com 3 chaves e 3 valores e imprima na tela\n",
    "\n",
    "dict2 = {\"Corsa\": \"Chevrolet\", \"Gol\": \"Wolkswagen\", \"Lancer\": \"Mitsubishi\"}"
   ]
  },
  {
   "cell_type": "code",
   "execution_count": 26,
   "id": "adad2490",
   "metadata": {},
   "outputs": [
    {
     "data": {
      "text/plain": [
       "{'Corsa': 'Chevrolet', 'Gol': 'Wolkswagen', 'Lancer': 'Mitsubishi'}"
      ]
     },
     "execution_count": 26,
     "metadata": {},
     "output_type": "execute_result"
    }
   ],
   "source": [
    "dict2"
   ]
  },
  {
   "cell_type": "markdown",
   "id": "45b940a7",
   "metadata": {},
   "source": [
    "#### Exercicio 7"
   ]
  },
  {
   "cell_type": "code",
   "execution_count": null,
   "id": "8fa201e6",
   "metadata": {},
   "outputs": [],
   "source": [
    "# Exercício 7 - Adicione mais um elemento ao dicionário criado no exercício anterior e imprima na tela\n",
    "\n",
    "dict2[\"Focus\"] = \"Ford\""
   ]
  },
  {
   "cell_type": "code",
   "execution_count": 28,
   "id": "4775b86b",
   "metadata": {},
   "outputs": [
    {
     "data": {
      "text/plain": [
       "{'Corsa': 'Chevrolet',\n",
       " 'Gol': 'Wolkswagen',\n",
       " 'Lancer': 'Mitsubishi',\n",
       " 'Focus': 'Ford'}"
      ]
     },
     "execution_count": 28,
     "metadata": {},
     "output_type": "execute_result"
    }
   ],
   "source": [
    "dict2"
   ]
  },
  {
   "cell_type": "markdown",
   "id": "7e6baabb",
   "metadata": {},
   "source": [
    "#### Exercicio 8"
   ]
  },
  {
   "cell_type": "code",
   "execution_count": null,
   "id": "ebef4032",
   "metadata": {},
   "outputs": [],
   "source": [
    "# Exercício 8 - Crie um dicionário com 3 chaves e 3 valores. \n",
    "# Um dos valores deve ser uma lista de 2 elementos numéricos. \n",
    "# Imprima o dicionário na tela.\n",
    "\n",
    "dict3 = {\"Banana\": 4.50, \"Feijão\": 8.00, \"Numero\": [1,2,3]}"
   ]
  },
  {
   "cell_type": "code",
   "execution_count": 32,
   "id": "5e0c6168",
   "metadata": {},
   "outputs": [
    {
     "data": {
      "text/plain": [
       "{'Banana': 4.5, 'Feijão': 8.0, 'Numero': [1, 2, 3]}"
      ]
     },
     "execution_count": 32,
     "metadata": {},
     "output_type": "execute_result"
    }
   ],
   "source": [
    "dict3"
   ]
  },
  {
   "cell_type": "markdown",
   "id": "6e4174a6",
   "metadata": {},
   "source": [
    "#### Exercicio 9"
   ]
  },
  {
   "cell_type": "code",
   "execution_count": null,
   "id": "5d8b6d2f",
   "metadata": {},
   "outputs": [],
   "source": [
    "# Exercício 9 - Crie uma lista de 4 elementos. O primeiro elemento deve ser uma string, \n",
    "# o segundo uma tupla de 2 elementos, o terceiro um dcionário com 2 chaves e 2 valores e \n",
    "# o quarto elemento um valor do tipo float.\n",
    "# Imprima a lista.\n",
    "\n",
    "Lista3 = [\"Elemento 1\", (1,2), {\"Rogerio\": 20, \"Yuri\": 30}, 1.52]"
   ]
  },
  {
   "cell_type": "code",
   "execution_count": 2,
   "id": "1b4309c2",
   "metadata": {},
   "outputs": [
    {
     "data": {
      "text/plain": [
       "['Elemento 1', (1, 2), {'Rogerio': 20, 'Yuri': 30}, 1.52]"
      ]
     },
     "execution_count": 2,
     "metadata": {},
     "output_type": "execute_result"
    }
   ],
   "source": [
    "Lista3"
   ]
  },
  {
   "cell_type": "markdown",
   "id": "781f789b",
   "metadata": {},
   "source": [
    "#### Exercicio 10"
   ]
  },
  {
   "cell_type": "code",
   "execution_count": null,
   "id": "f3a2eba8",
   "metadata": {},
   "outputs": [],
   "source": [
    "# Exercício 10 - Considere a string abaixo. Imprima na tela apenas os caracteres da posição 1 a 18.\n",
    "\n",
    "frase = 'Cientista de Dados é o profissional mais sexy do século XXI'"
   ]
  },
  {
   "cell_type": "code",
   "execution_count": 5,
   "id": "7f4735dc",
   "metadata": {},
   "outputs": [
    {
     "data": {
      "text/plain": [
       "'Cientista de Dados'"
      ]
     },
     "execution_count": 5,
     "metadata": {},
     "output_type": "execute_result"
    }
   ],
   "source": [
    "frase[0:18]"
   ]
  },
  {
   "cell_type": "code",
   "execution_count": null,
   "id": "7bf9403f",
   "metadata": {},
   "outputs": [],
   "source": []
  }
 ],
 "metadata": {
  "kernelspec": {
   "display_name": "Python 3 (ipykernel)",
   "language": "python",
   "name": "python3"
  },
  "language_info": {
   "codemirror_mode": {
    "name": "ipython",
    "version": 3
   },
   "file_extension": ".py",
   "mimetype": "text/x-python",
   "name": "python",
   "nbconvert_exporter": "python",
   "pygments_lexer": "ipython3",
   "version": "3.9.13"
  }
 },
 "nbformat": 4,
 "nbformat_minor": 5
}
