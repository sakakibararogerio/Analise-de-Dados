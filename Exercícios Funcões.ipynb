{
 "cells": [
  {
   "cell_type": "code",
   "execution_count": null,
   "id": "560760a6",
   "metadata": {},
   "outputs": [],
   "source": [
    "# Exercício 1 - Crie uma função que imprima a sequência de números pares entre 1 e 20 (a função não recebe parâmetro) \n",
    "# e depois faça uma chamada à função para listar os números   \n",
    "\n",
    "def numPares():\n",
    "    for i in range(1, 21):\n",
    "        if i % 2 == 0:\n",
    "            par = i\n",
    "            print(par)"
   ]
  },
  {
   "cell_type": "code",
   "execution_count": 53,
   "id": "70a43d00",
   "metadata": {},
   "outputs": [
    {
     "name": "stdout",
     "output_type": "stream",
     "text": [
      "2\n",
      "4\n",
      "6\n",
      "8\n",
      "10\n",
      "12\n",
      "14\n",
      "16\n",
      "18\n",
      "20\n"
     ]
    }
   ],
   "source": [
    "numPares()"
   ]
  },
  {
   "cell_type": "code",
   "execution_count": 8,
   "id": "a576fed7",
   "metadata": {},
   "outputs": [],
   "source": [
    "# Exercício 2 - Crie uam função que receba uma string como argumento e retorne a mesma string em letras maiúsculas.\n",
    "# Faça uma chamada à função, passando como parâmetro uma string\n",
    "\n",
    "def nome(nome):\n",
    "    return nome.upper()"
   ]
  },
  {
   "cell_type": "code",
   "execution_count": 9,
   "id": "8f28ec91",
   "metadata": {},
   "outputs": [
    {
     "data": {
      "text/plain": [
       "'ROGÉRIO'"
      ]
     },
     "execution_count": 9,
     "metadata": {},
     "output_type": "execute_result"
    }
   ],
   "source": [
    "nome(\"rogério\")"
   ]
  },
  {
   "cell_type": "code",
   "execution_count": 24,
   "id": "2fa14031",
   "metadata": {},
   "outputs": [],
   "source": [
    "# Exercício 3 - Crie uma função que receba como parâmetro uma lista de 4 elementos, adicione 2 elementos a lista e \n",
    "# imprima a lista\n",
    "\n",
    "def funcLista(lista):\n",
    "    if len(lista) != 4:\n",
    "        print(\"A lista deve conter exatamente 4 elementos.\")\n",
    "    else:\n",
    "        lista.append(2)\n",
    "        lista.append(50)\n",
    "    \n",
    "        print(lista)\n",
    "    "
   ]
  },
  {
   "cell_type": "code",
   "execution_count": 27,
   "id": "e4430f02",
   "metadata": {},
   "outputs": [
    {
     "name": "stdout",
     "output_type": "stream",
     "text": [
      "[1, 2, 5, 4, 2, 50]\n"
     ]
    }
   ],
   "source": [
    "funcLista([1,2,5,4])"
   ]
  },
  {
   "cell_type": "code",
   "execution_count": 31,
   "id": "b333001a",
   "metadata": {},
   "outputs": [],
   "source": [
    "# Exercício 4 - Crie uma função que receba um argumento formal e uma possível lista de elementos. Faça duas chamadas \n",
    "# à função, com apenas 1 elemento e na segunda chamada com 4 elementos\n",
    "\n",
    "def funcArg(arg1, *varlist):\n",
    "    print(\"Parâmetro com 1 elemento: \", arg1)\n",
    "    \n",
    "    for item in varlist:\n",
    "        \n",
    "        print(\"Parâmetro com mais elementos: \", item )\n",
    "    return"
   ]
  },
  {
   "cell_type": "code",
   "execution_count": 32,
   "id": "8dde8de2",
   "metadata": {},
   "outputs": [
    {
     "name": "stdout",
     "output_type": "stream",
     "text": [
      "Parâmetro com 1 elemento:  10\n"
     ]
    }
   ],
   "source": [
    "funcArg(10)"
   ]
  },
  {
   "cell_type": "code",
   "execution_count": 33,
   "id": "e66d3c50",
   "metadata": {},
   "outputs": [
    {
     "name": "stdout",
     "output_type": "stream",
     "text": [
      "Parâmetro com 1 elemento:  Banana\n",
      "Parâmetro com mais elementos:  Morango\n",
      "Parâmetro com mais elementos:  Maçã\n",
      "Parâmetro com mais elementos:  Uva\n"
     ]
    }
   ],
   "source": [
    "funcArg(\"Banana\", \"Morango\", \"Maçã\", \"Uva\")"
   ]
  },
  {
   "cell_type": "code",
   "execution_count": 55,
   "id": "e9f4e847",
   "metadata": {},
   "outputs": [],
   "source": [
    "# Exercício 5 - Crie uma função anônima e atribua seu retorno a uma variável chamada soma. A expressão vai receber 2 \n",
    "# números como parâmetro e retornar a soma deles\n",
    "\n",
    "soma = lambda x, y : x+y"
   ]
  },
  {
   "cell_type": "code",
   "execution_count": 56,
   "id": "7b7744bb",
   "metadata": {},
   "outputs": [
    {
     "name": "stdout",
     "output_type": "stream",
     "text": [
      "A soma é:  4\n"
     ]
    }
   ],
   "source": [
    "print(\"A soma é: \", soma(2,2))"
   ]
  },
  {
   "cell_type": "code",
   "execution_count": 42,
   "id": "d7e81e23",
   "metadata": {},
   "outputs": [
    {
     "name": "stdout",
     "output_type": "stream",
     "text": [
      "Dentro da função o total é:  30\n",
      "Fora da função o total é:  0\n"
     ]
    }
   ],
   "source": [
    "# Exercício 6 - Execute o código abaixo e certifique-se que compreende a diferença entre variável global e local\n",
    "total = 0\n",
    "def soma( arg1, arg2 ):\n",
    "    total = arg1 + arg2; \n",
    "    print (\"Dentro da função o total é: \", total)\n",
    "    return total;\n",
    "\n",
    "\n",
    "soma( 10, 20 );\n",
    "print (\"Fora da função o total é: \", total)"
   ]
  },
  {
   "cell_type": "code",
   "execution_count": 45,
   "id": "27a54c1b",
   "metadata": {},
   "outputs": [
    {
     "name": "stdout",
     "output_type": "stream",
     "text": [
      "[102.56, 97.7, 99.14, 100.03999999999999]\n"
     ]
    }
   ],
   "source": [
    "# Exercício 7 - Abaixo você encontra uma lista com temperaturas em graus Celsius\n",
    "# Crie uma função anônima que converta cada temperatura para Fahrenheit\n",
    "# Dica: para conseguir realizar este exercício, você deve criar sua função lambda, dentro de uma função \n",
    "# (que será estudada no próximo capítulo). Isso permite aplicar sua função a cada elemento da lista\n",
    "# Como descobrir a fórmula matemática que converte de Celsius para Fahrenheit? Pesquise!!!\n",
    "Celsius = [39.2, 36.5, 37.3, 37.8]\n",
    "Fahrenheit = map(lambda x: (x * 9/5) + 32, Celsius)\n",
    "print (list(Fahrenheit))"
   ]
  },
  {
   "cell_type": "code",
   "execution_count": 46,
   "id": "05a04c86",
   "metadata": {},
   "outputs": [],
   "source": [
    "# Exercício 8 - Crie uma list comprehension que imprima o quadrado dos números de 1 a 10\n",
    "quadrado = [x**2 for x in range(1,11)]"
   ]
  },
  {
   "cell_type": "code",
   "execution_count": 47,
   "id": "f953f43d",
   "metadata": {},
   "outputs": [
    {
     "name": "stdout",
     "output_type": "stream",
     "text": [
      "[1, 4, 9, 16, 25, 36, 49, 64, 81, 100]\n"
     ]
    }
   ],
   "source": [
    "print(quadrado)"
   ]
  },
  {
   "cell_type": "code",
   "execution_count": 48,
   "id": "7fcc5777",
   "metadata": {},
   "outputs": [],
   "source": [
    "# Exercício 9 - Crie uma list comprehension que imprima as palavras com a letra a no nome\n",
    "palavras = [\"maça\", \"coiote\", \"banana\", \"terreno\", \"Python\"]\n",
    "\n",
    "newList = [x for x in palavras if \"a\" in x]\n",
    "\n"
   ]
  },
  {
   "cell_type": "code",
   "execution_count": 49,
   "id": "c05eb083",
   "metadata": {},
   "outputs": [
    {
     "name": "stdout",
     "output_type": "stream",
     "text": [
      "['maça', 'banana']\n"
     ]
    }
   ],
   "source": [
    "print(newList)"
   ]
  },
  {
   "cell_type": "code",
   "execution_count": 50,
   "id": "7349af0b",
   "metadata": {},
   "outputs": [],
   "source": [
    "# Exercício 10 - Crie uma list comprehension que imprima os números menores que 5 em um intervalo de 1 a 10\n",
    "numMenores = [x for x in range(1, 11) if x < 5 ]"
   ]
  },
  {
   "cell_type": "code",
   "execution_count": 51,
   "id": "3351b975",
   "metadata": {},
   "outputs": [
    {
     "name": "stdout",
     "output_type": "stream",
     "text": [
      "[1, 2, 3, 4]\n"
     ]
    }
   ],
   "source": [
    "print(numMenores)"
   ]
  },
  {
   "cell_type": "code",
   "execution_count": null,
   "id": "7266563a",
   "metadata": {},
   "outputs": [],
   "source": []
  }
 ],
 "metadata": {
  "kernelspec": {
   "display_name": "Python 3 (ipykernel)",
   "language": "python",
   "name": "python3"
  },
  "language_info": {
   "codemirror_mode": {
    "name": "ipython",
    "version": 3
   },
   "file_extension": ".py",
   "mimetype": "text/x-python",
   "name": "python",
   "nbconvert_exporter": "python",
   "pygments_lexer": "ipython3",
   "version": "3.9.13"
  }
 },
 "nbformat": 4,
 "nbformat_minor": 5
}
